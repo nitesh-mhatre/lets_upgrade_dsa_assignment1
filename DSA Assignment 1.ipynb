{
 "cells": [
  {
   "cell_type": "markdown",
   "id": "39136f0c",
   "metadata": {},
   "source": [
    "<h3>Pattern 1</h3>"
   ]
  },
  {
   "cell_type": "code",
   "execution_count": 8,
   "id": "851fa4d0",
   "metadata": {},
   "outputs": [
    {
     "name": "stdout",
     "output_type": "stream",
     "text": [
      "Enter the number: 5\n",
      "\n",
      "    * \n",
      "   * * \n",
      "  * * * \n",
      " * * * * \n",
      "* * * * * \n"
     ]
    }
   ],
   "source": [
    "n = int(input(\"Enter the number: \"))\n",
    "print()\n",
    "for col in range(n,0,-1):             # loop for number of columns\n",
    "    for space in range(col-1):        # Loop to print extra spaces on right side of tringale\n",
    "        print(end=\" \")\n",
    "    for row in range(n-col+1):        # Loop to print stars followed by extra space created by above loop\n",
    "        print(\"*\",end=\" \")            # n-col+1 keep the increasing order from 1 to onwords \n",
    "    print()                           # to eneter new line at end of each row \n",
    "        "
   ]
  },
  {
   "cell_type": "markdown",
   "id": "fe39f892",
   "metadata": {},
   "source": [
    "<h3>Pattern 2</h3>"
   ]
  },
  {
   "cell_type": "code",
   "execution_count": 10,
   "id": "7c509a36",
   "metadata": {},
   "outputs": [
    {
     "name": "stdout",
     "output_type": "stream",
     "text": [
      "Enter the number: 5\n",
      "\n",
      "1 \n",
      "1 2 \n",
      "1 2 3 \n",
      "1 2 3 4 \n",
      "1 2 3 4 5 \n"
     ]
    }
   ],
   "source": [
    "n = int(input(\"Enter the number: \"))\n",
    "print()\n",
    "\n",
    "for col in range(1, n+1):            # loop for number of columns\n",
    "    for row in range(1, col+1):      # loop for number of rows\n",
    "        print(row , end=\" \")\n",
    "    print()"
   ]
  },
  {
   "cell_type": "markdown",
   "id": "650773bc",
   "metadata": {},
   "source": [
    "<h3>Pattern 3</h3>"
   ]
  },
  {
   "cell_type": "code",
   "execution_count": 17,
   "id": "8b38e275",
   "metadata": {},
   "outputs": [
    {
     "name": "stdout",
     "output_type": "stream",
     "text": [
      "Enter the number: 5\n",
      "\n",
      "* * * * * \n",
      "*       * \n",
      "*       * \n",
      "*       * \n",
      "* * * * * \n"
     ]
    }
   ],
   "source": [
    "n = int(input(\"Enter the number: \"))\n",
    "print()\n",
    "pattern = [0,n-1]\n",
    "for col in range(n):\n",
    "    for row in range(n):\n",
    "        if row in pattern or col in pattern:\n",
    "            print(\"*\",end=\" \")\n",
    "        else:\n",
    "            print(end=\"  \")\n",
    "    print()"
   ]
  },
  {
   "cell_type": "code",
   "execution_count": 18,
   "id": "5ac8af4b",
   "metadata": {},
   "outputs": [
    {
     "name": "stdout",
     "output_type": "stream",
     "text": [
      "Enter the number: 5\n",
      "\n",
      "*****\n",
      "*   *\n",
      "*   *\n",
      "*   *\n",
      "*****\n"
     ]
    }
   ],
   "source": [
    "# without space\n",
    "\n",
    "n = int(input(\"Enter the number: \"))\n",
    "print()\n",
    "pattern = [0,n-1]\n",
    "for col in range(n):\n",
    "    for row in range(n):\n",
    "        if row in pattern or col in pattern:\n",
    "            print(\"*\",end=\"\")\n",
    "        else:\n",
    "            print(end=\" \")\n",
    "    print()"
   ]
  },
  {
   "cell_type": "code",
   "execution_count": null,
   "id": "e479750f",
   "metadata": {},
   "outputs": [],
   "source": []
  }
 ],
 "metadata": {
  "kernelspec": {
   "display_name": "Python 3 (ipykernel)",
   "language": "python",
   "name": "python3"
  },
  "language_info": {
   "codemirror_mode": {
    "name": "ipython",
    "version": 3
   },
   "file_extension": ".py",
   "mimetype": "text/x-python",
   "name": "python",
   "nbconvert_exporter": "python",
   "pygments_lexer": "ipython3",
   "version": "3.9.7"
  }
 },
 "nbformat": 4,
 "nbformat_minor": 5
}
